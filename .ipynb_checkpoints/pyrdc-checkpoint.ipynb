{
 "cells": [
  {
   "cell_type": "code",
   "execution_count": 1,
   "id": "647e56ef",
   "metadata": {},
   "outputs": [],
   "source": [
    "from docx import Document\n",
    "from docx.oxml.ns import nsdecls\n",
    "from docx.oxml import parse_xml\n",
    "from texts2doc import Texts\n",
    "import pandas as pd\n",
    "from testes import testes_variancia"
   ]
  },
  {
   "cell_type": "code",
   "execution_count": null,
   "id": "6f507132",
   "metadata": {},
   "outputs": [],
   "source": [
    "document = Document()\n",
    "\n",
    "texts = Texts()\n",
    "\n",
    "data = pd.read_csv('Analise_teste_hetero.csv', sep=',')\n",
    "\n",
    "testes = testes_variancia()\n",
    "\n",
    "aov_table, coef_table, conf_int, pearson_table = testes.anova(data)\n",
    "\n",
    "bp_test, gq_test, bg_test, teste_shapiro = testes.homoscedasticity_test(data)"
   ]
  },
  {
   "cell_type": "code",
   "execution_count": null,
   "id": "ec09b078",
   "metadata": {},
   "outputs": [],
   "source": [
    "def add_df_to_word(document, df):\n",
    "    # Adicione uma tabela com o número de linhas e colunas do DataFrame\n",
    "    table = document.add_table(rows=df.shape[0]+1, cols=df.shape[1])\n",
    "    \n",
    "    # Adicione os cabeçalhos da tabela\n",
    "    for i, column in enumerate(df.columns):\n",
    "        table.cell(0, i).text = column\n",
    "    \n",
    "    # Adicione os dados da tabela\n",
    "    for i in range(df.shape[0]):\n",
    "        for j in range(df.shape[1]):\n",
    "            table.cell(i+1, j).text = str(df.iloc[i, j])"
   ]
  },
  {
   "cell_type": "code",
   "execution_count": 2,
   "id": "f859c010",
   "metadata": {},
   "outputs": [],
   "source": [
    "def add_df_to_word(document, df, caption):\n",
    "    # Adicione a legenda da tabela\n",
    "    texts.add_paragraph(document, caption)\n",
    "    document.add_paragraph(caption)\n",
    "    \n",
    "    # Adicione uma tabela com o número de linhas e colunas do DataFrame\n",
    "    table = document.add_table(rows=df.shape[0]+1, cols=df.shape[1])\n",
    "    \n",
    "    # Adicione os cabeçalhos da tabela\n",
    "    for i, column in enumerate(df.columns):\n",
    "        cell = table.cell(0, i)\n",
    "        cell.text = column\n",
    "        \n",
    "        # Adicione bordas superior e inferior ao cabeçalho da tabela\n",
    "        tcPr = cell._element.tcPr\n",
    "        tcBorders = parse_xml(r'<w:tcBorders %s><w:top w:val=\"single\" w:sz=\"4\" w:space=\"0\" w:color=\"auto\"/><w:bottom w:val=\"single\" w:sz=\"4\" w:space=\"0\" w:color=\"auto\"/></w:tcBorders>' % nsdecls('w'))\n",
    "        tcPr.append(tcBorders)\n",
    "    \n",
    "    # Adicione os dados da tabela\n",
    "    for i in range(df.shape[0]):\n",
    "        for j in range(df.shape[1]):\n",
    "            cell = table.cell(i+1, j)\n",
    "            cell.text = str(df.iloc[i, j])\n",
    "            \n",
    "            # Adicione uma borda inferior à última linha da tabela\n",
    "            if i == df.shape[0]-1:\n",
    "                tcPr = cell._element.tcPr\n",
    "                tcBorders = parse_xml(r'<w:tcBorders %s><w:bottom w:val=\"single\" w:sz=\"4\" w:space=\"0\" w:color=\"auto\"/></w:tcBorders>' % nsdecls('w'))\n",
    "                tcPr.append(tcBorders)"
   ]
  },
  {
   "cell_type": "code",
   "execution_count": 3,
   "id": "8784e548",
   "metadata": {},
   "outputs": [],
   "source": []
  },
  {
   "cell_type": "code",
   "execution_count": 4,
   "id": "4e5f7bfb",
   "metadata": {},
   "outputs": [],
   "source": [
    "texts.text2(document)\n",
    "texts.text3(document)\n",
    "add_df_to_word(document, data, 'Tabela 1: Conjunto de dados para o estudo de Linearidade.')\n",
    "texts.text4(document)\n",
    "add_df_to_word(document, aov_table, \"Tabela 2: Esta tabela apresenta os resultados da análise de variância (ANOVA) para avaliar a significância das diferenças entre as médias dos grupos.\" +  \n",
    "\"A tabela inclui a fonte de variação, os graus de liberdade, a soma dos quadrados, a média dos quadrados, o valor F e o valor P.\")\n",
    "add_df_to_word(document, coef_table, \"Tabela 3: Parâmetros dos coeficientes.\")\n",
    "add_df_to_word(document, conf_int, \"Tabela 4: Intervalo de confiança para os parâmetros.\")\n",
    "\n",
    "p_value = 0.03\n",
    "texts.text5(document, p_value)\n",
    "add_df_to_word(document, pearson_table, \"Tabela 5: Esta tabela apresenta o resultado do cálculo do coeficiente de correlação de Pearson entre duas variáveis.\" + \n",
    "\"O coeficiente mede a força e a direção da relação linear entre as variáveis.\")\n",
    "\n",
    "#add_df_to_word(document, bp_test)\n",
    "#add_df_to_word(document, gq_test)\n",
    "#add_df_to_word(document, bg_test)\n",
    "#add_df_to_word(document, teste_shapiro)\n",
    "\n",
    "document.save('Relatorio_v03.docx')"
   ]
  },
  {
   "cell_type": "code",
   "execution_count": null,
   "id": "96cc9992",
   "metadata": {},
   "outputs": [],
   "source": []
  }
 ],
 "metadata": {
  "kernelspec": {
   "display_name": "Python 3 (ipykernel)",
   "language": "python",
   "name": "python3"
  },
  "language_info": {
   "codemirror_mode": {
    "name": "ipython",
    "version": 3
   },
   "file_extension": ".py",
   "mimetype": "text/x-python",
   "name": "python",
   "nbconvert_exporter": "python",
   "pygments_lexer": "ipython3",
   "version": "3.10.11"
  }
 },
 "nbformat": 4,
 "nbformat_minor": 5
}
